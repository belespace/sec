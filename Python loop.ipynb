{
 "cells": [
  {
   "cell_type": "code",
   "execution_count": 1,
   "id": "9702152c",
   "metadata": {},
   "outputs": [
    {
     "name": "stdout",
     "output_type": "stream",
     "text": [
      "15\n"
     ]
    }
   ],
   "source": [
    "sum=0\n",
    "i=1\n",
    "n=5\n",
    "while i<=n:\n",
    "    sum = sum + i\n",
    "    i=i+1\n",
    "print(sum)    \n"
   ]
  },
  {
   "cell_type": "code",
   "execution_count": 2,
   "id": "be3a62e6",
   "metadata": {},
   "outputs": [
    {
     "name": "stdout",
     "output_type": "stream",
     "text": [
      " firstname: sami\n",
      " lastname: bouhentala\n",
      "bouhentala\n",
      "sami\n"
     ]
    }
   ],
   "source": [
    "a=input(\" firstname: \")\n",
    "b=input (\" lastname: \")\n",
    "print (b)\n",
    "print (a)"
   ]
  },
  {
   "cell_type": "code",
   "execution_count": 3,
   "id": "3a0de652",
   "metadata": {},
   "outputs": [
    {
     "name": "stdout",
     "output_type": "stream",
     "text": [
      "n5\n",
      "5\n",
      "55\n",
      "555\n",
      "565\n"
     ]
    }
   ],
   "source": [
    "n1=input(\"n\")\n",
    "n2=n1+n1\n",
    "n3=n1+n1+n1\n",
    "print(n1)\n",
    "print(n2)\n",
    "print(n3)\n",
    "m=int(n1)+int(n)+int(n3)\n",
    "print(m)\n"
   ]
  },
  {
   "cell_type": "code",
   "execution_count": 4,
   "id": "fdee75d9",
   "metadata": {},
   "outputs": [
    {
     "name": "stdout",
     "output_type": "stream",
     "text": [
      "enter a number4\n",
      "n even\n"
     ]
    }
   ],
   "source": [
    "n=int(input(\"enter a number\"))\n",
    "m=n%2\n",
    "if m==0:\n",
    "    print (\"n even\")\n",
    "else:\n",
    "    (\"n odd\")"
   ]
  },
  {
   "cell_type": "code",
   "execution_count": 5,
   "id": "c6f0fbe2",
   "metadata": {},
   "outputs": [
    {
     "name": "stdout",
     "output_type": "stream",
     "text": [
      "2002;2009;2016;2023;2037;2044;2051;2058;2072;2079;2086;2093;2107;2114;2121;2128;2142;2149;2156;2163;2177;2184;2191;2198;2212;2219;2226;2233;2247;2254;2261;2268;2282;2289;2296;2303;2317;2324;2331;2338;2352;2359;2366;2373;2387;2394;2401;2408;2422;2429;2436;2443;2457;2464;2471;2478;2492;2499;2506;2513;2527;2534;2541;2548;2562;2569;2576;2583;2597;2604;2611;2618;2632;2639;2646;2653;2667;2674;2681;2688;2702;2709;2716;2723;2737;2744;2751;2758;2772;2779;2786;2793;2807;2814;2821;2828;2842;2849;2856;2863;2877;2884;2891;2898;2912;2919;2926;2933;2947;2954;2961;2968;2982;2989;2996;3003;3017;3024;3031;3038;3052;3059;3066;3073;3087;3094;3101;3108;3122;3129;3136;3143;3157;3164;3171;3178;3192;3199;\b.\n"
     ]
    }
   ],
   "source": [
    "for n in range(2000,3201):\n",
    "    if n%7==0 and n%5!=0:\n",
    "        print(n,end=\";\")\n",
    "print(\"\\b.\")        \n",
    "    \n",
    "    \n",
    "  \n",
    "\n"
   ]
  },
  {
   "cell_type": "code",
   "execution_count": 6,
   "id": "33901684",
   "metadata": {},
   "outputs": [
    {
     "name": "stdout",
     "output_type": "stream",
     "text": [
      "enter a number: 8\n",
      "40320\n"
     ]
    }
   ],
   "source": [
    "n=int(input(\"enter a number: \" ))\n",
    "factorial=1\n",
    "i=1\n",
    "while i<=n:\n",
    "    factorial=factorial*i;\n",
    "    i=i+1\n",
    "print(factorial)    "
   ]
  },
  {
   "cell_type": "code",
   "execution_count": null,
   "id": "9e7ac05e",
   "metadata": {},
   "outputs": [],
   "source": []
  }
 ],
 "metadata": {
  "kernelspec": {
   "display_name": "Python 3 (ipykernel)",
   "language": "python",
   "name": "python3"
  },
  "language_info": {
   "codemirror_mode": {
    "name": "ipython",
    "version": 3
   },
   "file_extension": ".py",
   "mimetype": "text/x-python",
   "name": "python",
   "nbconvert_exporter": "python",
   "pygments_lexer": "ipython3",
   "version": "3.9.7"
  }
 },
 "nbformat": 4,
 "nbformat_minor": 5
}
